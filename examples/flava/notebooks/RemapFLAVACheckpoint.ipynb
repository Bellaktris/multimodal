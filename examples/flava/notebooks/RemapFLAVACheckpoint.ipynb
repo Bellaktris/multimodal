{
 "cells": [
  {
   "cell_type": "markdown",
   "id": "7bba54ed",
   "metadata": {},
   "source": [
    "# Re-map FLAVA checkpoint\n",
    "\n",
    "Generalizing FLAVA components with the rest of the codebase can cause existing model checkpoints to go out of sync with the updated architecture. This notebook shows how to load the existing checkpoint, re-map the old layers to the new layers, and save the new checkpoint.\n",
    "\n",
    "If you wish to save a new checkpoint, you must have access to the PyTorch AWS S3 account."
   ]
  },
  {
   "cell_type": "markdown",
   "id": "766cfb62",
   "metadata": {},
   "source": [
    "### Load original model\n",
    "\n",
    "Load the existing checkpoint into the FLAVA class to see what the architecture currently is."
   ]
  },
  {
   "cell_type": "code",
   "execution_count": null,
   "id": "089eb63b",
   "metadata": {},
   "outputs": [],
   "source": [
    "import torch\n",
    "from torchmultimodal.models.flava.flava_model import flava_model_for_classification, flava_model_for_pretraining\n",
    "\n",
    "flava_classification = flava_model_for_classification(num_classes=3)"
   ]
  },
  {
   "cell_type": "markdown",
   "id": "d5014210",
   "metadata": {},
   "source": [
    "### Print summary"
   ]
  },
  {
   "cell_type": "code",
   "execution_count": null,
   "id": "97c18aa6",
   "metadata": {},
   "outputs": [],
   "source": [
    "flava_classification"
   ]
  },
  {
   "cell_type": "markdown",
   "id": "23d845e8",
   "metadata": {},
   "source": [
    "### Mapping function\n",
    "\n",
    "Replace this function with the code needed to map the old layer weights to the new layer weights."
   ]
  },
  {
   "cell_type": "code",
   "execution_count": null,
   "id": "3d9183d5",
   "metadata": {},
   "outputs": [],
   "source": [
    "import re\n",
    "\n",
    "def map_state_dict(state_dict):\n",
    "    mapped_state_dict = {}\n",
    "    for param, val in state_dict.items():\n",
    "        res = re.search('attention.attention', param)\n",
    "        if res:\n",
    "            idx = res.start()\n",
    "            new_param = param[:idx] + param[idx+10:]\n",
    "        else:\n",
    "            new_param = param\n",
    "        mapped_state_dict[new_param] = val\n",
    "    return mapped_state_dict"
   ]
  },
  {
   "cell_type": "markdown",
   "id": "ae1ee7d1",
   "metadata": {},
   "source": [
    "### Load checkpoint\n",
    "\n",
    "One more time except don't load into the FLAVA class, keep it as `state_dict`"
   ]
  },
  {
   "cell_type": "code",
   "execution_count": null,
   "id": "64ca8c27",
   "metadata": {},
   "outputs": [],
   "source": [
    "# Replace this path if it changes\n",
    "old_model_url = 'https://huggingface.co/aps/flava_full_pretrained_encoders_torchmm/resolve/main/pytorch_model.bin'\n",
    "\n",
    "old_state_dict = torch.hub.load_state_dict_from_url(old_model_url)"
   ]
  },
  {
   "cell_type": "markdown",
   "id": "58bfb326",
   "metadata": {},
   "source": [
    "### Perform re-mapping"
   ]
  },
  {
   "cell_type": "code",
   "execution_count": null,
   "id": "14b831fb",
   "metadata": {},
   "outputs": [],
   "source": [
    "new_state_dict = map_state_dict(old_state_dict)"
   ]
  },
  {
   "cell_type": "markdown",
   "id": "65dd78d8",
   "metadata": {},
   "source": [
    "### Save updated checkpoint"
   ]
  }
 ],
 "metadata": {
  "kernelspec": {
   "display_name": "Python 3 (ipykernel)",
   "language": "python",
   "name": "python3"
  },
  "language_info": {
   "codemirror_mode": {
    "name": "ipython",
    "version": 3
   },
   "file_extension": ".py",
   "mimetype": "text/x-python",
   "name": "python",
   "nbconvert_exporter": "python",
   "pygments_lexer": "ipython3",
   "version": "3.9.12"
  }
 },
 "nbformat": 4,
 "nbformat_minor": 5
}
